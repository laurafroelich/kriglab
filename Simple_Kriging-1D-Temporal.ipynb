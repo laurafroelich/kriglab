{
 "cells": [
  {
   "cell_type": "markdown",
   "metadata": {},
   "source": [
    "# SIMPLE KRIGING IN PYTHON - 1D Application\n",
    "\n",
    "*_Acknowledgement:_*\n",
    "\n",
    "*This Notebook has been developed based on a blogpost by Connor Johnson,\n",
    "http://connor-johnson.com/2014/03/20/simple-kriging-in-python/.*"
   ]
  },
  {
   "cell_type": "markdown",
   "metadata": {},
   "source": [
    "In this post I will work through an example of Simple Kriging. Kriging is a set of techniques for interpolation. It differs from other interpolation techniques in that it sacrifices smoothness for the integrity of sampled points. Most interpolation techniques will over or undershoot the value of the function at sampled locations, but kriging honors those measurements and keeps them fixed. In future posts I would like to cover other types of kriging, other semivariaogram models, and colocated co-kriging. Until then, I’m keeping relatively up to date code at my GitHub project, geostatsmodels. (https://github.com/cjohnson318/geostatsmodels)"
   ]
  },
  {
   "cell_type": "code",
   "execution_count": 4,
   "metadata": {
    "collapsed": true
   },
   "outputs": [],
   "source": [
    "from pylab import *\n",
    "import numpy as np\n",
    "from pandas import DataFrame, Series\n",
    "from scipy.spatial.distance import pdist, squareform\n",
    "%matplotlib inline\n",
    "import matplotlib.pyplot as plt\n",
    "plt.rcParams['font.size'] = 12\n",
    "plt.rcParams['figure.figsize'] = [16 / 1.5, 10 / 1.5]   # inch / cm = 2.54\n",
    "plt.rcParams['savefig.dpi'] = 300\n",
    "plt.rcParams['savefig.bbox'] = 'tight'\n",
    "# plt.rcParams['savefig.frameon'] = False"
   ]
  },
  {
   "cell_type": "code",
   "execution_count": 5,
   "metadata": {
    "collapsed": true
   },
   "outputs": [],
   "source": [
    "import pandas as pd\n",
    "df_Qts = pd.read_csv('5297Q_2010-11.txt',\n",
    "                usecols =[\"DATUM\",\"MESSWERT_NUM\"] ,\n",
    "                index_col=0, \n",
    "                parse_dates=True, \n",
    "                infer_datetime_format=True,\n",
    "                dayfirst=True,\n",
    "                decimal='.',\n",
    "                sep=\",\")"
   ]
  },
  {
   "cell_type": "code",
   "execution_count": 6,
   "metadata": {
    "collapsed": false
   },
   "outputs": [
    {
     "data": {
      "text/plain": [
       "<matplotlib.legend.Legend at 0x57b4828>"
      ]
     },
     "execution_count": 6,
     "metadata": {},
     "output_type": "execute_result"
    },
    {
     "data": {
      "image/png": "[encoded data removed]",
      "text/plain": [
       "<matplotlib.figure.Figure at 0x57b47f0>"
      ]
     },
     "metadata": {},
     "output_type": "display_data"
    }
   ],
   "source": [
    "#plt.plot(df_5297T, label=u\"5297T (Tertiär)\")\n",
    "plt.plot(df_Qts, label=u\"5297Q (Quartär)\")\n",
    "plt.ylabel(u\"Grundwasserstand\\n[mNN]\")\n",
    "plt.legend()"
   ]
  },
  {
   "cell_type": "code",
   "execution_count": 7,
   "metadata": {
    "collapsed": false,
    "scrolled": true
   },
   "outputs": [
    {
     "data": {
      "text/plain": [
       "array([[  0.  ,   0.  , 448.59],\n",
       "       [  1.  ,   0.  , 448.6 ],\n",
       "       [  2.  ,   0.  , 448.6 ],\n",
       "       ...,\n",
       "       [514.  ,   0.  , 448.42],\n",
       "       [515.  ,   0.  , 448.42],\n",
       "       [516.  ,   0.  , 448.44]])"
      ]
     },
     "execution_count": 7,
     "metadata": {},
     "output_type": "execute_result"
    }
   ],
   "source": [
    "#transform date to float and give differnce in days\n",
    "import pandas as pd\n",
    "import numpy as np\n",
    "\n",
    "X = np.array(df_Qts.index.values - df_Qts.index.values.min(), dtype=(float)) / (1e9 * 60 * 60 * 24)\n",
    "\n",
    "df_Qts = df_Qts.assign(X =X [:])\n",
    "#df_QtsX= pd.write_csv('5297QX_2010-11.txt')({'DATUM' :df_Qts.index.values , 'MESSWERT_NUM' : df_Qts })\n",
    "\n",
    "df_Qts[\"Y\"] = 0.\n",
    "P = np.array( df_Qts.dropna()[['X','Y','MESSWERT_NUM']] )\n",
    "P\n",
    "\n"
   ]
  },
  {
   "cell_type": "markdown",
   "metadata": {},
   "source": [
    "## The Semivariogram\n",
    "\n",
    "The semivariogram encodes data about spatial variance over the region at a given distance or lag. We generally expect data points that are close together spatially to share other characteristics, and we expect points that are separated by greater distances to have lesser correlation. The semivariogram allows us to model the similarity points in a field as a function of distance. The semivariogram is given by,\n",
    "\n",
    "$$\\begin{equation*} \\hat{\\gamma}(h) = \\dfrac{1}{2N(h)} \\displaystyle \\sum_{N(h)} ( z_{i} - z_{j} )^{2} \\end{equation*}$$ (Equation 1)\n",
    "\n",
    "Here, h is distance specified by the user, and z_{i} and z_{j} are two points that are separated spatially by h. The N(h) term is the number of points we have that are separated by the distance h. The semivariogram then is the sum of squared differences between values separated by a distance h. As an aside, contrast this with the formulation for variance,\n",
    "\n",
    "$$\\begin{equation*} s = \\dfrac{1}{N-1} \\displaystyle \\sum_{k=1}^{N} (z_{k} - \\hat{\\mu} )^{2} \\end{equation*}$$ (Equation 2)\n",
    "\n",
    "Here, $N$ is the number of data points, $\\hat{\\mu}$ is the sample mean, and $z_{k}$ is a data point. For sample variance, we are taking the squared difference between data points and the mean, and in the semivariogram we are taking the squared difference between data points separated by distance h. We can write some functions to calculate the semivariogram at one lag, and then at multiple lags as follows."
   ]
  },
  {
   "cell_type": "code",
   "execution_count": 8,
   "metadata": {
    "collapsed": true
   },
   "outputs": [],
   "source": [
    "def SVh( P, h, bw ):\n",
    "    '''\n",
    "    Experimental semivariogram for a single lag\n",
    "    '''\n",
    "    pd = squareform( pdist( P[:,:2] ) )\n",
    "    N = pd.shape[0]\n",
    "    Z = list()\n",
    "    for i in range(N):\n",
    "        for j in range(i+1,N):\n",
    "            if( pd[i,j] >= h-bw )and( pd[i,j] <= h+bw ):\n",
    "                Z.append( ( P[i,2] - P[j,2] )**2.0 )  # sample difference\n",
    "    return np.sum( Z ) / ( 2.0 * len( Z ) )\n",
    " \n",
    "def SV( P, hs, bw ):\n",
    "    '''\n",
    "    Experimental variogram for a collection of lags\n",
    "    '''\n",
    "    sv = list()\n",
    "    for h in hs:\n",
    "        sv.append( SVh( P, h, bw ) )\n",
    "    sv = [ [ hs[i], sv[i] ] for i in range( len( hs ) ) if sv[i] > 0 ]\n",
    "    return np.array( sv ).T\n",
    " \n",
    "def C( P, h, bw ):\n",
    "    '''\n",
    "    Calculate the sill\n",
    "    '''\n",
    "    c0 = np.var( P[:,2] )\n",
    "    if h == 0:\n",
    "        return c0\n",
    "    return c0 - SVh( P, h, bw )"
   ]
  },
  {
   "cell_type": "markdown",
   "metadata": {},
   "source": [
    "The C() function is the covariance function, and will be used later. Let us now calculate and plot the semivariogram,"
   ]
  },
  {
   "cell_type": "code",
   "execution_count": 80,
   "metadata": {
    "collapsed": false,
    "scrolled": false
   },
   "outputs": [
    {
     "name": "stderr",
     "output_type": "stream",
     "text": [
      "C:\\Users\\jomz\\AppData\\Local\\conda\\conda\\envs\\ipykernel_py2\\lib\\site-packages\\ipykernel_launcher.py:12: RuntimeWarning: invalid value encountered in double_scalars\n",
      "  if sys.path[0] == '':\n"
     ]
    },
    {
     "data": {
      "image/png": "[encoded data removed]",
      "text/plain": [
       "<matplotlib.figure.Figure at 0xada09e8>"
      ]
     },
     "metadata": {},
     "output_type": "display_data"
    }
   ],
   "source": [
    "\n",
    "# bandwidth, plus or minus bw meters\n",
    "bw = 40\n",
    "# lags in 500 meter increments from zero to 10,000\n",
    "hs = np.arange(0, 600, bw)\n",
    "sv = SV( P, hs, bw )\n",
    "plot( sv[0], sv[1], '.-' )\n",
    "xlabel('Lag [m]')\n",
    "ylabel('Semivariance')\n",
    "title('Sample Semivariogram') ;\n",
    "savefig('sample_semivariogram.png',fmt='png',dpi=200)\n"
   ]
  },
  {
   "cell_type": "markdown",
   "metadata": {},
   "source": [
    "Modeling\n",
    "Now that we’ve calculated the semivariogram, we will need to fit a model to the data. There are three popular models, the spherical, exponential, and the Gaussian. Here, we’ll implement the spherical model. First, we will present a function named opt() for determining the optimal value a for the spherical model."
   ]
  },
  {
   "cell_type": "code",
   "execution_count": 45,
   "metadata": {
    "collapsed": true
   },
   "outputs": [],
   "source": [
    "def opt( fct, x, y, C0, parameterRange=None, meshSize=1000 ):\n",
    "    if parameterRange == None:\n",
    "        parameterRange = [ x[1], x[-1] ]\n",
    "    mse = np.zeros( meshSize )\n",
    "    a = np.linspace( parameterRange[0], parameterRange[1], meshSize )\n",
    "    for i in range( meshSize ):\n",
    "        mse[i] = np.mean( ( y - fct( x, a[i], C0 ) )**2.0 )\n",
    "    return a[ mse.argmin() ]"
   ]
  },
  {
   "cell_type": "markdown",
   "metadata": {},
   "source": [
    "The opt() function finds the optimal parameter for fitting a spherical model to the semivariogram data. The spherical model is given by the function spherical(). On the last line we see that spherical() returns itself in a map() function, which seems odd. The idea is that the input h can be a single float value, or list or NumPy array of floats. If h is a single value, then line 9 is called. If h is a list or an array (an iterable) then line 17 is called, which applies line 9 to each value of h."
   ]
  },
  {
   "cell_type": "code",
   "execution_count": 46,
   "metadata": {
    "collapsed": true
   },
   "outputs": [],
   "source": [
    "def gaussian( h, a, C0 ):\n",
    "    '''\n",
    "    Gaussian model of the semivariogram\n",
    "    '''\n",
    "    # if h is a single digit\n",
    "    if type(h) == np.float64:\n",
    "        # calculate the spherical function\n",
    "        return C0 * (1 - exp(-3*h**2/a**2))\n",
    "        \n",
    "    # if h is an iterable\n",
    "    else:\n",
    "        # calcualte the gaussian function for all elements\n",
    "        a = np.ones( h.size ) * a\n",
    "        C0 = np.ones( h.size ) * C0\n",
    "        return map( gaussian, h, a, C0 )"
   ]
  },
  {
   "cell_type": "code",
   "execution_count": 47,
   "metadata": {
    "collapsed": true
   },
   "outputs": [],
   "source": [
    "def exponential( h, a, C0 ):\n",
    "    '''\n",
    "    Exponential model of the semivariogram\n",
    "    '''\n",
    "    # if h is a single digit\n",
    "    if type(h) == np.float64:\n",
    "        # calculate the exponential function\n",
    "        return C0 * (1 - exp(-3*h/a))\n",
    "        \n",
    "    # if h is an iterable\n",
    "    else:\n",
    "        # calcualte the exponential function for all elements\n",
    "        a = np.ones( h.size ) * a\n",
    "        C0 = np.ones( h.size ) * C0\n",
    "        return map( exponential, h, a, C0 )"
   ]
  },
  {
   "cell_type": "code",
   "execution_count": 48,
   "metadata": {
    "collapsed": true
   },
   "outputs": [],
   "source": [
    "def spherical( h, a, C0, Cn=0 ):\n",
    "    '''\n",
    "    Spherical model of the semivariogram\n",
    "    '''\n",
    "    # if h is a single digit\n",
    "    if type(h) == np.float64:\n",
    "        # calculate the spherical function\n",
    "        if h <= a:\n",
    "            return Cn+(C0-Cn)*( 1.5*h/a - 0.5*(h/a)**3.0 )\n",
    "        else:\n",
    "            return C0\n",
    "    # if h is an iterable\n",
    "    else:\n",
    "        # calcualte the spherical function for all elements\n",
    "        a = np.ones( h.size ) * a\n",
    "        C0 = np.ones( h.size ) * C0\n",
    "        Cn = np.ones( h.size ) * Cn\n",
    "        return map( spherical, h, a, C0, Cn )"
   ]
  },
  {
   "cell_type": "code",
   "execution_count": 49,
   "metadata": {
    "collapsed": true
   },
   "outputs": [],
   "source": [
    "def hole (h, a, C0, Cn=0):\n",
    "    \n",
    "    if type(h) == np.float64:\n",
    "        # calculate the spherical function\n",
    "        return C0*(1-(1-h/a) * exp(-h/a) )\n",
    "\n",
    "    # if h is an iterable\n",
    "    else:\n",
    "        # calcualte the spherical function for all elements\n",
    "        a = np.ones( h.size ) * a\n",
    "        C0 = np.ones( h.size ) * C0\n",
    "        Cn = np.ones(h.size) * Cn\n",
    "        return map( hole, h, a, C0, Cn )"
   ]
  },
  {
   "cell_type": "code",
   "execution_count": 65,
   "metadata": {
    "collapsed": true
   },
   "outputs": [],
   "source": [
    "def hole_N (h, a, C0, Cn=0):\n",
    "    #from Triki et al. p.1600 (Dowdall et al. 2003)\n",
    "    if type(h) == np.float64:\n",
    "        # calculate the hole function\n",
    "        if h == 0:\n",
    "            return 0\n",
    "        else: \n",
    "            return Cn+(C0-Cn)*( 1-(sin(h/a ))/(h/a) )\n",
    "    # if h is an iterable\n",
    "    else:\n",
    "        # calcualte the hole function for all elements\n",
    "        a = np.ones( h.size ) * a\n",
    "        C0 = np.ones( h.size ) * C0\n",
    "        Cn = np.ones(h.size) * Cn\n",
    "        return map( hole_N, h, a, C0, Cn )"
   ]
  },
  {
   "cell_type": "markdown",
   "metadata": {},
   "source": [
    "Next, cvmodel() fits a model to the semivariogram data and returns a covariance method named covfct()."
   ]
  },
  {
   "cell_type": "code",
   "execution_count": 66,
   "metadata": {
    "collapsed": true
   },
   "outputs": [],
   "source": [
    "def cvmodel( P, model, hs, bw, Cn = None ):\n",
    "    '''\n",
    "    Input:  (P)      ndarray, data\n",
    "            (model)  modeling function\n",
    "                      - spherical\n",
    "                      - exponential\n",
    "                      - gaussian\n",
    "            (hs)     distances\n",
    "            (bw)     bandwidth\n",
    "    Output: (covfct) function modeling the covariance\n",
    "    '''\n",
    "    if Cn is None:\n",
    "        Cn = N(P, hs, bw)\n",
    "    # calculate the semivariogram\n",
    "    sv = SV( P, hs, bw )\n",
    "    # calculate the sill\n",
    "    C0 = C( P, hs[0], bw )\n",
    "    # calculate the optimal parameters\n",
    "    param = opt( model, sv[0], sv[1], C0 )\n",
    "    # return a covariance function\n",
    "    covfct = lambda h, a=param: C0 - model( h, a, C0, Cn=Cn )\n",
    "    return covfct"
   ]
  },
  {
   "cell_type": "markdown",
   "metadata": {},
   "source": [
    "At this point we’ll plot our model and see if it represents our data well."
   ]
  },
  {
   "cell_type": "code",
   "execution_count": 81,
   "metadata": {
    "collapsed": false
   },
   "outputs": [
    {
     "data": {
      "image/png": "[encoded data removed]",
      "text/plain": [
       "<matplotlib.figure.Figure at 0xd23f630>"
      ]
     },
     "metadata": {},
     "output_type": "display_data"
    }
   ],
   "source": [
    "varmodel = hole_N\n",
    "\n",
    "sp = cvmodel( P, model=varmodel, hs=np.arange(0,600,200), bw=bw, Cn=0.0 )\n",
    "C0 = C( P, hs[0], bw )\n",
    "plot( sv[0], sv[1], '.-' )\n",
    "plot( sv[0], C0 - sp( sv[0] ) ) ;\n",
    "title('Spherical Model')\n",
    "ylabel('Semivariance')\n",
    "xlabel('Lag [m]')\n",
    "savefig('semivariogram_model.png',fmt='png',dpi=200)\n"
   ]
  },
  {
   "cell_type": "markdown",
   "metadata": {},
   "source": [
    "## Simple Kriging\n",
    "\n",
    "\n",
    "Now that we have a model for the semivariogram, we can write a function to perform the kriging. The fundamental relationship is a matrix equation,\n",
    "\n",
    "$$\\begin{equation*} K \\lambda = k \\Rightarrow \\lambda = K^{-1} k \\end{equation*} $$ \n",
    "\n",
    "Here, $K$ is a matrix of covariances calculated using the spherical model, $\\lambda$ is a vector of simple kriging weights, and $k$ is the vector of covariances between the data points and an unsampled point. Our kriging function takes the data set $P$, the model, the distances hs, the bandwidth bw, the coordinates of the unsampled point u, and the number of surrounding points N to use in the calculation."
   ]
  },
  {
   "cell_type": "markdown",
   "metadata": {},
   "source": [
    "## Calculation for all Points\n",
    "\n",
    "Here, we’ll calculate the kriging estimate at a number of unsampled points."
   ]
  },
  {
   "cell_type": "code",
   "execution_count": 53,
   "metadata": {
    "collapsed": true
   },
   "outputs": [],
   "source": [
    "def krige( P, covfct, u, N ):\n",
    "    '''\n",
    "    Input  (P)     ndarray, data\n",
    "           (covfct) modeling function\n",
    "                    - spherical\n",
    "                    - exponential\n",
    "                    - gaussian\n",
    "           (u)     unsampled point\n",
    "           (N)     number of neighboring\n",
    "                   points to consider\n",
    "    '''\n",
    "\n",
    "    assert N < len(P) + 1, \"Number of Neighbors greater than number of data points\"\n",
    "\n",
    "    # mean of the variable\n",
    "    mu = np.mean( P[:,2] )\n",
    " \n",
    "    # distance between u and each data point in P\n",
    "    d = np.sqrt( ( P[:,0]-u[0] )**2.0 + ( P[:,1]-u[1] )**2.0 )\n",
    "    # add these distances to P\n",
    "    P = np.vstack(( P.T, d )).T\n",
    "    # sort P by these distances\n",
    "    # take the first N of them\n",
    "    P = P[d.argsort()[:N]]\n",
    " \n",
    "    # apply the covariance model to the distances\n",
    "    k = covfct( P[:,3] )\n",
    "    # cast as a matrix\n",
    "    k = np.matrix( k ).T\n",
    " \n",
    "    # form a matrix of distances between existing data points\n",
    "    K = squareform( pdist( P[:,:2] ) )\n",
    "    # apply the covariance model to these distances\n",
    "    K = covfct( K.ravel() )\n",
    "    # re-cast as a NumPy array -- thanks M.L.\n",
    "    K = np.array( K )\n",
    "    # reshape into an array\n",
    "    K = K.reshape(N,N)\n",
    "    # cast as a matrix\n",
    "    K = np.matrix( K )\n",
    " \n",
    "    # calculate the kriging weights\n",
    "    weights = np.linalg.inv( K ) * k\n",
    "    weights = np.array( weights )\n",
    " \n",
    "    # calculate the residuals\n",
    "    residuals = P[:,2] - mu\n",
    " \n",
    "    # calculate the estimation\n",
    "    estimation = np.dot( weights.T, residuals ) + mu\n",
    " \n",
    "    return (float( estimation ), k, K, weights)"
   ]
  },
  {
   "cell_type": "markdown",
   "metadata": {},
   "source": [
    "# Plotting the Estimator - 1D"
   ]
  },
  {
   "cell_type": "code",
   "execution_count": 54,
   "metadata": {
    "collapsed": false
   },
   "outputs": [
    {
     "name": "stdout",
     "output_type": "stream",
     "text": [
      "Sampling resolution: 0.50 days\n"
     ]
    }
   ],
   "source": [
    "# sampling intervall:\n",
    "X0, X1 = 0., 800.\n",
    "\n",
    "# number of samples\n",
    "n = 1600\n",
    "dx = (X1-X0)/n\n",
    "print(\"Sampling resolution: {:.2f} days\".format(dx))\n",
    "\n",
    "# number of neighbors:\n",
    "nn = 200\n"
   ]
  },
  {
   "cell_type": "code",
   "execution_count": 55,
   "metadata": {
    "collapsed": false
   },
   "outputs": [
    {
     "data": {
      "application/vnd.jupyter.widget-view+json": {
       "model_id": "ce7d4a6378f845b3b9cc021258cae5f2",
       "version_major": 2,
       "version_minor": 0
      },
      "text/html": [
       "<p>Failed to display Jupyter Widget of type <code>FloatProgress</code>.</p>\n",
       "<p>\n",
       "  If you're reading this message in the Jupyter Notebook or JupyterLab Notebook, it may mean\n",
       "  that the widgets JavaScript is still loading. If this message persists, it\n",
       "  likely means that the widgets JavaScript library is either not installed or\n",
       "  not enabled. See the <a href=\"https://ipywidgets.readthedocs.io/en/stable/user_install.html\">Jupyter\n",
       "  Widgets Documentation</a> for setup instructions.\n",
       "</p>\n",
       "<p>\n",
       "  If you're reading this message in another frontend (for example, a static\n",
       "  rendering on GitHub or <a href=\"https://nbviewer.jupyter.org/\">NBViewer</a>),\n",
       "  it may mean that your frontend doesn't currently support widgets.\n",
       "</p>\n"
      ],
      "text/plain": [
       "FloatProgress(value=0.0, description=u'Running Kriging ... ', max=1600.0)"
      ]
     },
     "metadata": {},
     "output_type": "display_data"
    }
   ],
   "source": [
    "# create a progress bar\n",
    "from ipywidgets import FloatProgress\n",
    "from IPython.display import display\n",
    "wdgt = FloatProgress(min=0, max=n, description=\"Running Kriging ... \")\n",
    "display(wdgt)\n",
    "\n",
    "Z = np.zeros(n)\n",
    "V = np.zeros(n)\n",
    "for i in range(n):\n",
    "    wdgt.value += 1\n",
    "    h, k, K, weights = krige( P, sp, (dx*i, 0), nn )\n",
    "    Z[i] = h\n",
    "    v = C0 - np.dot(k.T, weights)\n",
    "    V[i] = max (v, 0)"
   ]
  },
  {
   "cell_type": "code",
   "execution_count": 56,
   "metadata": {
    "collapsed": false,
    "scrolled": false
   },
   "outputs": [
    {
     "data": {
      "image/png": "[encoded data removed]",
      "text/plain": [
       "<matplotlib.figure.Figure at 0xbc9ecf8>"
      ]
     },
     "metadata": {},
     "output_type": "display_data"
    }
   ],
   "source": [
    "plt.fill_between([i*dx for i in range(n)], Z-3*np.sqrt(V), Z+3*np.sqrt(V), color='green', alpha=0.1, label=\"+/- 3 stdev\")\n",
    "plt.fill_between([i*dx for i in range(n)], Z-2*np.sqrt(V), Z+2*np.sqrt(V), color='green', alpha=0.2, label=\"+/- 2 stdev\")\n",
    "plt.fill_between([i*dx for i in range(n)], Z-1*np.sqrt(V), Z+1*np.sqrt(V), color='green', alpha=0.3, label=\"+/- 1 stdev\")\n",
    "plt.plot([i*dx for i in range(n)], Z, \"g-\", label=\"estimator\")\n",
    "plt.scatter(df_Qts.X, df_Qts.MESSWERT_NUM, c=\"r\", label=\"sample\", s=3)\n",
    "plt.plot((X0, X1),(df_Qts.MESSWERT_NUM.mean(),df_Qts.MESSWERT_NUM.mean()), \"r-.\", label=\"mean of sample\", alpha=0.3,)\n",
    "plt.legend(loc='upper right')\n",
    "ylabel('Water Level [m]')\n",
    "xlabel('Time [d]')\n",
    "\n",
    "x1,x2,y1,y2 = plt.axis()\n",
    "\n",
    "plt.axis((x1,x2,447, 450))\n",
    "#plt.savefig(\"result_gaussian_model_.png\")\n",
    "plt.show()"
   ]
  },
  {
   "cell_type": "code",
   "execution_count": 57,
   "metadata": {
    "collapsed": false
   },
   "outputs": [
    {
     "data": {
      "text/plain": [
       "Text(0.5,0,u'Time [d]')"
      ]
     },
     "execution_count": 57,
     "metadata": {},
     "output_type": "execute_result"
    },
    {
     "data": {
      "image/png": "[encoded data removed]",
      "text/plain": [
       "<matplotlib.figure.Figure at 0xbe4b208>"
      ]
     },
     "metadata": {},
     "output_type": "display_data"
    }
   ],
   "source": [
    "plt.plot([i*dx for i in range(n)], 2*1.96*np.sqrt(V), \"g--\", label=\"size of estimated 95% confidence intervall\")\n",
    "plt.plot((X0, X1),(2*1.96*np.sqrt(C0), 2*1.96*np.sqrt(C0)), \"r-\", label=\"size of confidence from global Sill\")\n",
    "plt.legend(loc='upper left')\n",
    "ylabel('Value [m]')\n",
    "xlabel('Time [d]')"
   ]
  },
  {
   "cell_type": "markdown",
   "metadata": {
    "collapsed": true
   },
   "source": [
    "### Questions:\n",
    "+ search for neighbour strategy: instead of fixed number, use on left, one right (if applicable)?\n",
    "+ unsymetric (up down behavior)?\n"
   ]
  },
  {
   "cell_type": "code",
   "execution_count": null,
   "metadata": {
    "collapsed": true
   },
   "outputs": [],
   "source": []
  },
  {
   "cell_type": "code",
   "execution_count": null,
   "metadata": {
    "collapsed": true
   },
   "outputs": [],
   "source": []
  },
  {
   "cell_type": "code",
   "execution_count": null,
   "metadata": {
    "collapsed": true
   },
   "outputs": [],
   "source": []
  },
  {
   "cell_type": "code",
   "execution_count": null,
   "metadata": {
    "collapsed": true
   },
   "outputs": [],
   "source": []
  },
  {
   "cell_type": "code",
   "execution_count": null,
   "metadata": {
    "collapsed": true
   },
   "outputs": [],
   "source": []
  }
 ],
 "metadata": {
  "hide_input": false,
  "kernelspec": {
   "display_name": "Python 2",
   "language": "python",
   "name": "python2"
  },
  "language_info": {
   "codemirror_mode": {
    "name": "ipython",
    "version": 2
   },
   "file_extension": ".py",
   "mimetype": "text/x-python",
   "name": "python",
   "nbconvert_exporter": "python",
   "pygments_lexer": "ipython2",
   "version": "2.7.14"
  },
  "varInspector": {
   "cols": {
    "lenName": 16,
    "lenType": 16,
    "lenVar": 40
   },
   "kernels_config": {
    "python": {
     "delete_cmd_postfix": "",
     "delete_cmd_prefix": "del ",
     "library": "var_list.py",
     "varRefreshCmd": "print(var_dic_list())"
    },
    "r": {
     "delete_cmd_postfix": ") ",
     "delete_cmd_prefix": "rm(",
     "library": "var_list.r",
     "varRefreshCmd": "cat(var_dic_list()) "
    }
   },
   "types_to_exclude": [
    "module",
    "function",
    "builtin_function_or_method",
    "instance",
    "_Feature"
   ],
   "window_display": false
  }
 },
 "nbformat": 4,
 "nbformat_minor": 2
}
