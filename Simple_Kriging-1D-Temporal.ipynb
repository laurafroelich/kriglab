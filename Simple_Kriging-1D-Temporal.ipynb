{
 "cells": [
  {
   "cell_type": "markdown",
   "metadata": {},
   "source": [
    "# SIMPLE KRIGING IN PYTHON - 1D Application\n",
    "\n",
    "*_Acknowledgement:_*\n",
    "\n",
    "*This Notebook has been developed based on a blogpost by Connor Johnson,\n",
    "http://connor-johnson.com/2014/03/20/simple-kriging-in-python/.*"
   ]
  },
  {
   "cell_type": "markdown",
   "metadata": {},
   "source": [
    "In this post I will work through an example of Simple Kriging. Kriging is a set of techniques for interpolation. It differs from other interpolation techniques in that it sacrifices smoothness for the integrity of sampled points. Most interpolation techniques will over or undershoot the value of the function at sampled locations, but kriging honors those measurements and keeps them fixed. In future posts I would like to cover other types of kriging, other semivariaogram models, and colocated co-kriging. Until then, I’m keeping relatively up to date code at my GitHub project, geostatsmodels. (https://github.com/cjohnson318/geostatsmodels)"
   ]
  },
  {
   "cell_type": "code",
   "execution_count": 1,
   "metadata": {
    "collapsed": true
   },
   "outputs": [],
   "source": [
    "from pylab import *\n",
    "import numpy as np\n",
    "from pandas import DataFrame, Series\n",
    "from scipy.spatial.distance import pdist, squareform\n",
    "%matplotlib inline\n",
    "import matplotlib.pyplot as plt\n",
    "plt.rcParams['font.size'] = 12\n",
    "plt.rcParams['figure.figsize'] = [16 / 1.5, 10 / 1.5]   # inch / cm = 2.54\n",
    "plt.rcParams['savefig.dpi'] = 300\n",
    "plt.rcParams['savefig.bbox'] = 'tight'\n",
    "# plt.rcParams['savefig.frameon'] = False"
   ]
  },
  {
   "cell_type": "code",
   "execution_count": 2,
   "metadata": {
    "collapsed": false
   },
   "outputs": [],
   "source": [
    "import pandas as pd\n",
    "df_Qts = pd.read_csv('5297Q_2010-14.txt',\n",
    "                usecols =[\"DATUM\",\"MESSWERT_NUM\"] ,\n",
    "                index_col=0, \n",
    "                parse_dates=True, \n",
    "                infer_datetime_format=True,\n",
    "                dayfirst=True,\n",
    "                decimal='.',\n",
    "                sep=\",\")"
   ]
  },
  {
   "cell_type": "code",
   "execution_count": 3,
   "metadata": {
    "collapsed": false
   },
   "outputs": [
    {
     "data": {
      "text/plain": [
       "<matplotlib.legend.Legend at 0xa01a978>"
      ]
     },
     "execution_count": 3,
     "metadata": {},
     "output_type": "execute_result"
    },
    {
     "data": {
      "image/png": "[encoded data removed]",
      "text/plain": [
       "<matplotlib.figure.Figure at 0x34beef0>"
      ]
     },
     "metadata": {},
     "output_type": "display_data"
    }
   ],
   "source": [
    "#plt.plot(df_5297T, label=u\"5297T (Tertiär)\")\n",
    "plt.plot(df_Qts, label=u\"5297Q (Quartär)\")\n",
    "plt.ylabel(u\"Grundwasserstand\\n[mNN]\")\n",
    "plt.legend()"
   ]
  },
  {
   "cell_type": "code",
   "execution_count": 4,
   "metadata": {
    "collapsed": false,
    "scrolled": true
   },
   "outputs": [
    {
     "data": {
      "text/plain": [
       "array([[0.0000e+00, 0.0000e+00, 4.4859e+02],\n",
       "       [1.0000e+00, 0.0000e+00, 4.4860e+02],\n",
       "       [2.0000e+00, 0.0000e+00, 4.4860e+02],\n",
       "       ...,\n",
       "       [1.6100e+03, 0.0000e+00, 4.4839e+02],\n",
       "       [1.6110e+03, 0.0000e+00, 4.4840e+02],\n",
       "       [1.6120e+03, 0.0000e+00, 4.4840e+02]])"
      ]
     },
     "execution_count": 4,
     "metadata": {},
     "output_type": "execute_result"
    }
   ],
   "source": [
    "#transform date to float and give differnce in days\n",
    "import pandas as pd\n",
    "import numpy as np\n",
    "\n",
    "X = np.array(df_Qts.index.values - df_Qts.index.values.min(), dtype=(float)) / (1e9 * 60 * 60 * 24)\n",
    "\n",
    "df_Qts = df_Qts.assign(X =X [:])\n",
    "#df_QtsX= pd.write_csv('5297QX_2010-11.txt')({'DATUM' :df_Qts.index.values , 'MESSWERT_NUM' : df_Qts })\n",
    "\n",
    "df_Qts[\"Y\"] = 0.\n",
    "P = np.array( df_Qts.dropna()[['X','Y','MESSWERT_NUM']] )\n",
    "P\n",
    "\n"
   ]
  },
  {
   "cell_type": "markdown",
   "metadata": {},
   "source": [
    "## The Semivariogram\n",
    "\n",
    "The semivariogram encodes data about spatial variance over the region at a given distance or lag. We generally expect data points that are close together spatially to share other characteristics, and we expect points that are separated by greater distances to have lesser correlation. The semivariogram allows us to model the similarity points in a field as a function of distance. The semivariogram is given by,\n",
    "\n",
    "$$\\begin{equation*} \\hat{\\gamma}(h) = \\dfrac{1}{2N(h)} \\displaystyle \\sum_{N(h)} ( z_{i} - z_{j} )^{2} \\end{equation*}$$ (Equation 1)\n",
    "\n",
    "Here, h is distance specified by the user, and z_{i} and z_{j} are two points that are separated spatially by h. The N(h) term is the number of points we have that are separated by the distance h. The semivariogram then is the sum of squared differences between values separated by a distance h. As an aside, contrast this with the formulation for variance,\n",
    "\n",
    "$$\\begin{equation*} s = \\dfrac{1}{N-1} \\displaystyle \\sum_{k=1}^{N} (z_{k} - \\hat{\\mu} )^{2} \\end{equation*}$$ (Equation 2)\n",
    "\n",
    "Here, $N$ is the number of data points, $\\hat{\\mu}$ is the sample mean, and $z_{k}$ is a data point. For sample variance, we are taking the squared difference between data points and the mean, and in the semivariogram we are taking the squared difference between data points separated by distance h. We can write some functions to calculate the semivariogram at one lag, and then at multiple lags as follows."
   ]
  },
  {
   "cell_type": "code",
   "execution_count": 5,
   "metadata": {
    "collapsed": true
   },
   "outputs": [],
   "source": [
    "def SVh( P, h, bw ):\n",
    "    '''\n",
    "    Experimental semivariogram for a single lag\n",
    "    '''\n",
    "    pd = squareform( pdist( P[:,:2] ) )\n",
    "    N = pd.shape[0]\n",
    "    Z = list()\n",
    "    for i in range(N):\n",
    "        for j in range(i+1,N):\n",
    "            if( pd[i,j] >= h-bw )and( pd[i,j] <= h+bw ):\n",
    "                Z.append( ( P[i,2] - P[j,2] )**2.0 )  # sample difference\n",
    "    return np.sum( Z ) / ( 2.0 * len( Z ) )\n",
    " \n",
    "def SV( P, hs, bw ):\n",
    "    '''\n",
    "    Experimental variogram for a collection of lags\n",
    "    '''\n",
    "    sv = list()\n",
    "    for h in hs:\n",
    "        sv.append( SVh( P, h, bw ) )\n",
    "    sv = [ [ hs[i], sv[i] ] for i in range( len( hs ) ) if sv[i] > 0 ]\n",
    "    return np.array( sv ).T\n",
    " \n",
    "def C( P, h, bw ):\n",
    "    '''\n",
    "    Calculate the sill\n",
    "    '''\n",
    "    c0 = np.var( P[:,2] )\n",
    "    if h == 0:\n",
    "        return c0\n",
    "    return c0 - SVh( P, h, bw )"
   ]
  },
  {
   "cell_type": "markdown",
   "metadata": {},
   "source": [
    "The C() function is the covariance function, and will be used later. Let us now calculate and plot the semivariogram,"
   ]
  },
  {
   "cell_type": "code",
   "execution_count": 6,
   "metadata": {
    "collapsed": false,
    "scrolled": false
   },
   "outputs": [
    {
     "name": "stderr",
     "output_type": "stream",
     "text": [
      "C:\\Users\\jomz\\AppData\\Local\\conda\\conda\\envs\\ipykernel_py2\\lib\\site-packages\\ipykernel_launcher.py:12: RuntimeWarning: invalid value encountered in double_scalars\n",
      "  if sys.path[0] == '':\n"
     ]
    },
    {
     "data": {
      "image/png": "[encoded data removed]",
      "text/plain": [
       "<matplotlib.figure.Figure at 0x68b46d8>"
      ]
     },
     "metadata": {},
     "output_type": "display_data"
    }
   ],
   "source": [
    "\n",
    "# bandwidth, plus or minus bw meters\n",
    "bw = 60\n",
    "# lags in 500 meter increments from zero to 10,000\n",
    "hs = np.arange(0, 2000, bw)\n",
    "sv = SV( P, hs, bw )\n",
    "plot( sv[0], sv[1], '.-' )\n",
    "xlabel('Lag [m]')\n",
    "ylabel('Semivariance')\n",
    "title('Sample Semivariogram') ;\n",
    "savefig('sample_semivariogram.png',fmt='png',dpi=200)\n"
   ]
  },
  {
   "cell_type": "markdown",
   "metadata": {},
   "source": [
    "Modeling\n",
    "Now that we’ve calculated the semivariogram, we will need to fit a model to the data. There are three popular models, the spherical, exponential, and the Gaussian. Here, we’ll implement the spherical model. First, we will present a function named opt() for determining the optimal value a for the spherical model."
   ]
  },
  {
   "cell_type": "code",
   "execution_count": 7,
   "metadata": {
    "collapsed": false
   },
   "outputs": [],
   "source": [
    "def opt( fct, x, y, C0, parameterRange=None, meshSize=1000 ):\n",
    "    if parameterRange == None:\n",
    "        parameterRange = [ x[1], x[-1] ]\n",
    "    mse = np.zeros( meshSize )\n",
    "    a = np.linspace( parameterRange[0], parameterRange[1], meshSize )\n",
    "    for i in range( meshSize ):\n",
    "        mse[i] = np.mean( ( y - fct( x, a[i], C0 ) )**2.0 )\n",
    "    return a[ mse.argmin() ]"
   ]
  },
  {
   "cell_type": "markdown",
   "metadata": {},
   "source": [
    "The opt() function finds the optimal parameter for fitting a spherical model to the semivariogram data. The spherical model is given by the function spherical(). On the last line we see that spherical() returns itself in a map() function, which seems odd. The idea is that the input h can be a single float value, or list or NumPy array of floats. If h is a single value, then line 9 is called. If h is a list or an array (an iterable) then line 17 is called, which applies line 9 to each value of h."
   ]
  },
  {
   "cell_type": "code",
   "execution_count": 8,
   "metadata": {
    "collapsed": true
   },
   "outputs": [],
   "source": [
    "def gaussian( h, a, C0, Cn=0 ):\n",
    "    '''\n",
    "    Gaussian model of the semivariogram\n",
    "    '''\n",
    "    # if h is a single digit\n",
    "    if type(h) == np.float64:\n",
    "        # calculate the spherical function\n",
    "        return Cn+(C0-Cn) * (1 - exp(-3*h**2/a**2))\n",
    "        \n",
    "    # if h is an iterable\n",
    "    else:\n",
    "        # calcualte the gaussian function for all elements\n",
    "        a = np.ones( h.size ) * a\n",
    "        C0 = np.ones( h.size ) * C0\n",
    "        Cn = np.ones(h.size) * Cn\n",
    "        return map( gaussian, h, a, C0, Cn )\n"
   ]
  },
  {
   "cell_type": "code",
   "execution_count": 9,
   "metadata": {
    "collapsed": true
   },
   "outputs": [],
   "source": [
    "def exponential( h, a, C0, Cn=0 ):\n",
    "    '''\n",
    "    Exponential model of the semivariogram\n",
    "    '''\n",
    "    # if h is a single digit\n",
    "    if type(h) == np.float64:\n",
    "        \n",
    "        # calculate the exponential function\n",
    "        return Cn+(C0-Cn) * (1 - exp(-3*h/a))\n",
    "        \n",
    "    # if h is an iterable\n",
    "    else:\n",
    "        # calcualte the exponential function for all elements\n",
    "        a = np.ones( h.size ) * a\n",
    "        C0 = np.ones( h.size ) * C0\n",
    "        Cn = np.ones(h.size) * Cn\n",
    "        return map( exponential, h, a, C0, Cn )"
   ]
  },
  {
   "cell_type": "code",
   "execution_count": 10,
   "metadata": {
    "collapsed": true
   },
   "outputs": [],
   "source": [
    "def spherical( h, a, C0, Cn=0 ):\n",
    "    '''\n",
    "    Spherical model of the semivariogram\n",
    "    '''\n",
    "\n",
    "    if type(C0) == float:\n",
    "        C0 = np.float64(C0)\n",
    "        \n",
    "    # if h is a single digit\n",
    "    if type(h) == np.float64:\n",
    "        # calculate the spherical function\n",
    "        if h <= a:\n",
    "            return Cn+(C0-Cn)*( 1.5*h/a - 0.5*(h/a)**3.0 )\n",
    "        else:\n",
    "            return C0\n",
    "    # if h is an iterable\n",
    "    else:\n",
    "        # calcualte the spherical function for all elements\n",
    "        a = np.ones( h.size ) * a\n",
    "        C0 = np.ones( h.size ) * C0\n",
    "        Cn = np.ones( h.size ) * Cn\n",
    "        return map( spherical, h, a, C0, Cn )"
   ]
  },
  {
   "cell_type": "code",
   "execution_count": 11,
   "metadata": {
    "collapsed": true
   },
   "outputs": [],
   "source": [
    "def hole (h, a, C0, Cn=0):\n",
    "    \n",
    "    if type(h) == np.float64:\n",
    "        # calculate the spherical function\n",
    "        return C0*(1-(1-h/a) * exp(-h/a) )\n",
    "\n",
    "    # if h is an iterable\n",
    "    else:\n",
    "        # calcualte the spherical function for all elements\n",
    "        a = np.ones( h.size ) * a\n",
    "        C0 = np.ones( h.size ) * C0\n",
    "        Cn = np.ones(h.size) * Cn\n",
    "        return map( hole, h, a, C0, Cn )"
   ]
  },
  {
   "cell_type": "code",
   "execution_count": 12,
   "metadata": {
    "collapsed": false
   },
   "outputs": [],
   "source": [
    "def hole_N (h, C0, a, Cn=0):\n",
    "    #from Triki et al. p.1600 (Dowdall et al. 2003)\n",
    "    if type(h) == np.float64:\n",
    "        # calculate the hole function\n",
    "        if h == 0: \n",
    "            return Cn\n",
    "        else:\n",
    "            return Cn+(C0-Cn)*( 1-(sin(h/a ))/(h/a) )\n",
    "    # if h is an iterable\n",
    "    else:\n",
    "        # calcualte the hole function for all elements\n",
    "        a = np.ones( h.size ) * a\n",
    "        C0 = np.ones( h.size ) * C0\n",
    "        Cn = np.ones(h.size) * Cn\n",
    "        return map( hole_N, h, a, C0, Cn )"
   ]
  },
  {
   "cell_type": "markdown",
   "metadata": {},
   "source": [
    "Next, cvmodel() fits a model to the semivariogram data and returns a covariance method named covfct()."
   ]
  },
  {
   "cell_type": "code",
   "execution_count": 13,
   "metadata": {
    "collapsed": false
   },
   "outputs": [],
   "source": [
    "def cvmodel( P, model, hs, bw, Cn = None, svrange=None, C0=None):\n",
    "    '''\n",
    "    Input:  (P)      ndarray, data\n",
    "            (model)  modeling function\n",
    "                      - spherical\n",
    "                      - exponential\n",
    "                      - gaussian\n",
    "            (hs)     distances\n",
    "            (bw)     bandwidth\n",
    "    Output: (covfct) function modeling the covariance\n",
    "    '''\n",
    "    if Cn is None:\n",
    "        Cn = N(P, hs, bw)\n",
    "        \n",
    "    if type(C0) == float:\n",
    "        C0 = np.float64(C0)\n",
    "        \n",
    "    # calculate the semivariogram\n",
    "    sv = SV( P, hs, bw )\n",
    "    # calculate the sill\n",
    "    if C0 is None:\n",
    "        C0 = C( P, hs[0], bw )\n",
    "    # calculate the optimal parameters\n",
    "    if svrange is None:\n",
    "        svrange = opt( model, sv[0], sv[1], C0 )\n",
    "    # return a covariance function\n",
    "    covfct = lambda h, a=svrange: C0 - model( h, a, C0, Cn=Cn )\n",
    "    return covfct"
   ]
  },
  {
   "cell_type": "markdown",
   "metadata": {},
   "source": [
    "At this point we’ll plot our model and see if it represents our data well."
   ]
  },
  {
   "cell_type": "code",
   "execution_count": 14,
   "metadata": {
    "collapsed": false
   },
   "outputs": [
    {
     "data": {
      "text/plain": [
       "array([[0.00000000e+00, 6.00000000e+01, 1.20000000e+02, 1.80000000e+02,\n",
       "        2.40000000e+02, 3.00000000e+02, 3.60000000e+02, 4.20000000e+02,\n",
       "        4.80000000e+02, 5.40000000e+02, 6.00000000e+02, 6.60000000e+02,\n",
       "        7.20000000e+02, 7.80000000e+02, 8.40000000e+02, 9.00000000e+02,\n",
       "        9.60000000e+02, 1.02000000e+03, 1.08000000e+03, 1.14000000e+03,\n",
       "        1.20000000e+03, 1.26000000e+03, 1.32000000e+03, 1.38000000e+03,\n",
       "        1.44000000e+03, 1.50000000e+03, 1.56000000e+03, 1.62000000e+03],\n",
       "       [2.83348806e-02, 3.70933371e-02, 4.86638908e-02, 5.39694628e-02,\n",
       "        5.83224877e-02, 5.76336936e-02, 5.11329509e-02, 4.79547088e-02,\n",
       "        4.64235283e-02, 4.69794231e-02, 5.15671149e-02, 4.93336525e-02,\n",
       "        4.41937260e-02, 4.23495017e-02, 4.68549357e-02, 5.12733498e-02,\n",
       "        4.66628654e-02, 3.89084780e-02, 4.09650260e-02, 5.83956898e-02,\n",
       "        7.39159657e-02, 6.90778200e-02, 6.29693746e-02, 5.92245167e-02,\n",
       "        4.06205506e-02, 2.12365290e-02, 1.78329200e-02, 1.83553372e-02]])"
      ]
     },
     "execution_count": 14,
     "metadata": {},
     "output_type": "execute_result"
    }
   ],
   "source": [
    "sv"
   ]
  },
  {
   "cell_type": "code",
   "execution_count": 15,
   "metadata": {
    "collapsed": false
   },
   "outputs": [
    {
     "name": "stderr",
     "output_type": "stream",
     "text": [
      "C:\\Users\\jomz\\AppData\\Local\\conda\\conda\\envs\\ipykernel_py2\\lib\\site-packages\\ipykernel_launcher.py:12: RuntimeWarning: invalid value encountered in double_scalars\n",
      "  if sys.path[0] == '':\n"
     ]
    },
    {
     "data": {
      "image/png": "[encoded data removed]",
      "text/plain": [
       "<matplotlib.figure.Figure at 0x9edbfd0>"
      ]
     },
     "metadata": {},
     "output_type": "display_data"
    }
   ],
   "source": [
    "varmodel = gaussian \n",
    "C0=0.06\n",
    "sp = cvmodel( P, model=varmodel, hs=np.arange(0,2000,100), bw=bw, Cn=0.0, svrange=2*365, C0=C0)\n",
    "#C0 = C( P, hs[0], bw )\n",
    "\n",
    "plot( sv[0], sv[1], '.-' )\n",
    "plot( sv[0], C0 - sp( sv[0] ) ) ;\n",
    "title('Gaussian Model')\n",
    "ylabel('Semivariance')\n",
    "xlabel('Lag [m]')\n",
    "savefig('semivariogram_model_gaussian.png',fmt='png',dpi=200)\n"
   ]
  },
  {
   "cell_type": "markdown",
   "metadata": {},
   "source": [
    "## Simple Kriging\n",
    "\n",
    "\n",
    "Now that we have a model for the semivariogram, we can write a function to perform the kriging. The fundamental relationship is a matrix equation,\n",
    "\n",
    "$$\\begin{equation*} K \\lambda = k \\Rightarrow \\lambda = K^{-1} k \\end{equation*} $$ \n",
    "\n",
    "Here, $K$ is a matrix of covariances calculated using the spherical model, $\\lambda$ is a vector of simple kriging weights, and $k$ is the vector of covariances between the data points and an unsampled point. Our kriging function takes the data set $P$, the model, the distances hs, the bandwidth bw, the coordinates of the unsampled point u, and the number of surrounding points N to use in the calculation."
   ]
  },
  {
   "cell_type": "markdown",
   "metadata": {},
   "source": [
    "## Calculation for all Points\n",
    "\n",
    "Here, we’ll calculate the kriging estimate at a number of unsampled points."
   ]
  },
  {
   "cell_type": "code",
   "execution_count": 19,
   "metadata": {
    "collapsed": true
   },
   "outputs": [],
   "source": [
    "def krige( P, covfct, u, N ):\n",
    "    '''\n",
    "    Input  (P)     ndarray, data\n",
    "           (covfct) modeling function\n",
    "                    - spherical\n",
    "                    - exponential\n",
    "                    - gaussian\n",
    "           (u)     unsampled point\n",
    "           (N)     number of neighboring\n",
    "                   points to consider\n",
    "    '''\n",
    "\n",
    "    assert N < len(P) + 1, \"Number of Neighbors greater than number of data points\"\n",
    "\n",
    "    # mean of the variable\n",
    "    mu = np.mean( P[:,2] )\n",
    " \n",
    "    # distance between u and each data point in P\n",
    "    d = np.sqrt( ( P[:,0]-u[0] )**2.0 + ( P[:,1]-u[1] )**2.0 )\n",
    "    # add these distances to P\n",
    "    P = np.vstack(( P.T, d )).T\n",
    "    # sort P by these distances\n",
    "    # take the first N of them\n",
    "    P = P[d.argsort()[:N]]\n",
    " \n",
    "    # apply the covariance model to the distances\n",
    "    k = covfct( P[:,3] )\n",
    "    # cast as a matrix\n",
    "    k = np.matrix( k ).T\n",
    " \n",
    "    # form a matrix of distances between existing data points\n",
    "    K = squareform( pdist( P[:,:2] ) )\n",
    "    # apply the covariance model to these distances\n",
    "    K = covfct( K.ravel() )\n",
    "    # re-cast as a NumPy array -- thanks M.L.\n",
    "    K = np.array( K )\n",
    "    # reshape into an array\n",
    "    K = K.reshape(N,N)\n",
    "    # cast as a matrix\n",
    "    K = np.matrix( K )\n",
    "    K = np.identity(50)*0.025+K\n",
    " \n",
    "    # calculate the kriging weights\n",
    "    weights = np.linalg.inv( K ) * k\n",
    "    weights = np.array( weights )\n",
    " \n",
    "    # calculate the residuals\n",
    "    residuals = P[:,2] - mu\n",
    " \n",
    "    # calculate the estimation\n",
    "    estimation = np.dot( weights.T, residuals ) + mu\n",
    " \n",
    "    return (float( estimation ), k, K, weights)"
   ]
  },
  {
   "cell_type": "markdown",
   "metadata": {},
   "source": [
    "# Plotting the Estimator - 1D"
   ]
  },
  {
   "cell_type": "code",
   "execution_count": 20,
   "metadata": {
    "collapsed": false
   },
   "outputs": [
    {
     "name": "stdout",
     "output_type": "stream",
     "text": [
      "Sampling resolution: 1.39 days\n"
     ]
    }
   ],
   "source": [
    "# sampling intervall:\n",
    "X0, X1 = 0., 2500.\n",
    "\n",
    "# number of samples\n",
    "n = 1800\n",
    "dx = (X1-X0)/n\n",
    "print(\"Sampling resolution: {:.2f} days\".format(dx))\n",
    "\n",
    "# number of neighbors:\n",
    "nn = 50\n"
   ]
  },
  {
   "cell_type": "code",
   "execution_count": 21,
   "metadata": {
    "collapsed": false
   },
   "outputs": [
    {
     "data": {
      "application/vnd.jupyter.widget-view+json": {
       "model_id": "83306dd7198b45f88379a58681b2c1c1",
       "version_major": 2,
       "version_minor": 0
      },
      "text/html": [
       "<p>Failed to display Jupyter Widget of type <code>FloatProgress</code>.</p>\n",
       "<p>\n",
       "  If you're reading this message in the Jupyter Notebook or JupyterLab Notebook, it may mean\n",
       "  that the widgets JavaScript is still loading. If this message persists, it\n",
       "  likely means that the widgets JavaScript library is either not installed or\n",
       "  not enabled. See the <a href=\"https://ipywidgets.readthedocs.io/en/stable/user_install.html\">Jupyter\n",
       "  Widgets Documentation</a> for setup instructions.\n",
       "</p>\n",
       "<p>\n",
       "  If you're reading this message in another frontend (for example, a static\n",
       "  rendering on GitHub or <a href=\"https://nbviewer.jupyter.org/\">NBViewer</a>),\n",
       "  it may mean that your frontend doesn't currently support widgets.\n",
       "</p>\n"
      ],
      "text/plain": [
       "FloatProgress(value=0.0, description=u'Running Kriging ... ', max=1800.0)"
      ]
     },
     "metadata": {},
     "output_type": "display_data"
    }
   ],
   "source": [
    "# create a progress bar\n",
    "from ipywidgets import FloatProgress\n",
    "from IPython.display import display\n",
    "wdgt = FloatProgress(min=0, max=n, description=\"Running Kriging ... \")\n",
    "display(wdgt)\n",
    "\n",
    "Z = np.zeros(n)\n",
    "V = np.zeros(n)\n",
    "for i in range(n):\n",
    "    wdgt.value += 1\n",
    "    h, k, K, weights = krige( P, sp, (dx*i, 0), nn )\n",
    "    Z[i] = h\n",
    "    v = C0 - np.dot(k.T, weights)\n",
    "    V[i] = max (v, 0)"
   ]
  },
  {
   "cell_type": "code",
   "execution_count": null,
   "metadata": {
    "collapsed": false,
    "scrolled": false
   },
   "outputs": [],
   "source": [
    "plt.rcParams[\"figure.figsize\"] = (16, 12)\n",
    "plt.fill_between([i*dx for i in range(n)], Z-3*np.sqrt(V), Z+3*np.sqrt(V), color='green', alpha=0.1, label=\"+/- 3 stdev\")\n",
    "plt.fill_between([i*dx for i in range(n)], Z-2*np.sqrt(V), Z+2*np.sqrt(V), color='green', alpha=0.2, label=\"+/- 2 stdev\")\n",
    "plt.fill_between([i*dx for i in range(n)], Z-1*np.sqrt(V), Z+1*np.sqrt(V), color='green', alpha=0.3, label=\"+/- 1 stdev\")\n",
    "plt.plot([i*dx for i in range(n)], Z, \"g-\", label=\"estimator\")\n",
    "plt.scatter(df_Qts.X, df_Qts.MESSWERT_NUM, c=\"r\", label=\"sample\", s=3)\n",
    "plt.plot((X0, X1),(df_Qts.MESSWERT_NUM.mean(),df_Qts.MESSWERT_NUM.mean()), \"r-.\", label=\"mean of sample\", alpha=0.3,)\n",
    "plt.legend(loc='upper right')\n",
    "ylabel('Water Level [m]')\n",
    "xlabel('Time [d]')\n",
    "\n",
    "x1,x2,y1,y2 = plt.axis()\n",
    "\n",
    "plt.axis((x1,x2,447, 450))\n",
    "plt.savefig(\"result_gaussian_model_SKwithIdentity2a.png\")\n",
    "plt.show()"
   ]
  },
  {
   "cell_type": "markdown",
   "metadata": {
    "collapsed": true
   },
   "source": [
    "### Questions:\n",
    "+ search for neighbour strategy: instead of fixed number, use on left, one right (if applicable)?\n",
    "+ unsymetric (up down behavior)?\n"
   ]
  },
  {
   "cell_type": "code",
   "execution_count": null,
   "metadata": {
    "collapsed": false,
    "scrolled": false
   },
   "outputs": [],
   "source": [
    "plt.plot([i*dx for i in range(n)], 2*1.96*np.sqrt(V), \"g--\", label=\"size of estimated 95% confidence intervall\")\n",
    "plt.plot((X0, X1),(2*1.96*np.sqrt(C0), 2*1.96*np.sqrt(C0)), \"r-\", label=\"size of confidence from global Sill\")\n",
    "plt.legend(loc='upper left')\n",
    "#plt.scatter(df_Qts.X, (df_Qts.MESSWERT_NUM-448)*30, c=\"r\", label=\"sample\", s=3)\n",
    "\n",
    "#plt.scatter(df_Qts.X, np.ones_like(df_Qts.X), c=\"r\", label=\"sample\", s=3)\n",
    "\n",
    "ylabel('Value [m]')\n",
    "xlabel('Time [d]')\n",
    "#plt.axis((-1,10,0, 25))\n",
    "_ = plt.show()"
   ]
  },
  {
   "cell_type": "code",
   "execution_count": null,
   "metadata": {
    "collapsed": true
   },
   "outputs": [],
   "source": [
    "%matplotlib inline"
   ]
  },
  {
   "cell_type": "code",
   "execution_count": null,
   "metadata": {
    "collapsed": false
   },
   "outputs": [],
   "source": [
    "sqrt(0.02)"
   ]
  },
  {
   "cell_type": "code",
   "execution_count": null,
   "metadata": {
    "collapsed": true
   },
   "outputs": [],
   "source": []
  }
 ],
 "metadata": {
  "anaconda-cloud": {},
  "hide_input": false,
  "kernelspec": {
   "display_name": "Python 2",
   "language": "python",
   "name": "python2"
  },
  "language_info": {
   "codemirror_mode": {
    "name": "ipython",
    "version": 2
   },
   "file_extension": ".py",
   "mimetype": "text/x-python",
   "name": "python",
   "nbconvert_exporter": "python",
   "pygments_lexer": "ipython2",
   "version": "2.7.14"
  },
  "varInspector": {
   "cols": {
    "lenName": 16,
    "lenType": 16,
    "lenVar": 40
   },
   "kernels_config": {
    "python": {
     "delete_cmd_postfix": "",
     "delete_cmd_prefix": "del ",
     "library": "var_list.py",
     "varRefreshCmd": "print(var_dic_list())"
    },
    "r": {
     "delete_cmd_postfix": ") ",
     "delete_cmd_prefix": "rm(",
     "library": "var_list.r",
     "varRefreshCmd": "cat(var_dic_list()) "
    }
   },
   "position": {
    "height": "494px",
    "left": "1533px",
    "right": "20px",
    "top": "108px",
    "width": "384px"
   },
   "types_to_exclude": [
    "module",
    "function",
    "builtin_function_or_method",
    "instance",
    "_Feature"
   ],
   "window_display": true
  }
 },
 "nbformat": 4,
 "nbformat_minor": 2
}
